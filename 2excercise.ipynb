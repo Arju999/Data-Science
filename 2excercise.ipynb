{
 "cells": [
  {
   "cell_type": "code",
   "execution_count": 10,
   "id": "691298b4",
   "metadata": {},
   "outputs": [
    {
     "name": "stdin",
     "output_type": "stream",
     "text": [
      "Enter the number of rows\n",
      " 2\n",
      "Enter the number of columns\n",
      " 2\n"
     ]
    },
    {
     "name": "stdout",
     "output_type": "stream",
     "text": [
      "Enter the  4 entries in a single line (separated by space) of first matrix\n",
      " \n"
     ]
    },
    {
     "name": "stdin",
     "output_type": "stream",
     "text": [
      " 4 5 6 7\n"
     ]
    },
    {
     "name": "stdout",
     "output_type": "stream",
     "text": [
      "Enter the  4 entries in a single line (separated by space) of second matrix\n",
      " \n"
     ]
    },
    {
     "name": "stdin",
     "output_type": "stream",
     "text": [
      " 4 8 9 1\n"
     ]
    },
    {
     "name": "stdout",
     "output_type": "stream",
     "text": [
      "[[4 5]\n",
      " [6 7]]\n",
      "[[4 8]\n",
      " [9 1]]\n",
      "\n",
      "\n",
      "dot product of two matrix is :\n",
      " [[61 37]\n",
      " [87 55]]\n",
      "\n",
      "\n",
      "transpose of dot product is :\n",
      " [[61 87]\n",
      " [37 55]]\n",
      "\n",
      "\n",
      "trace of dot product is :\n",
      " 116\n",
      "\n",
      "\n",
      "RANK of dot product is :\n",
      " 2\n",
      "\n",
      "\n",
      "DETERMINANT of dot product is :\n",
      " 136\n",
      "\n",
      "\n",
      "inverse of dot product is :\n",
      " [[ 0.40441176 -0.27205882]\n",
      " [-0.63970588  0.44852941]]\n",
      "\n",
      "\n",
      "eigen values of dot product is :\n",
      " (array([114.81549085,   1.18450915]), array([[ 0.56654806, -0.52606023],\n",
      "       [ 0.8240287 ,  0.85044732]]))\n"
     ]
    }
   ],
   "source": [
    "import numpy as np\n",
    "from fractions import Fraction\n",
    "R = int(input(\"Enter the number of rows\\n\"))\n",
    "C = int(input(\"Enter the number of columns\\n\"))\n",
    "k=C*R\n",
    "print(\"Enter the \",k,\"entries in a single line (separated by space) of first matrix\\n \")\n",
    "entries1 = list(map(int, input().split()))\n",
    "matrix1 = np.array(entries1).reshape(R, C)\n",
    "print(\"Enter the \",k,\"entries in a single line (separated by space) of second matrix\\n \")\n",
    "entries2 = list(map(int, input().split()))\n",
    "matrix2 = np.array(entries2).reshape(R, C)\n",
    "print(matrix1)\n",
    "print(matrix2)\n",
    "dot=np.dot(matrix1,matrix2)\n",
    "print(\"\\n\")\n",
    "print(\"dot product of two matrix is :\\n\",dot)\n",
    "print(\"\\n\")\n",
    "print(\"transpose of dot product is :\\n\",np.transpose(dot))\n",
    "print(\"\\n\")\n",
    "print(\"trace of dot product is :\\n\",np.trace(dot))\n",
    "print(\"\\n\")\n",
    "print(\"RANK of dot product is :\\n\",np.linalg.matrix_rank(dot))\n",
    "print(\"\\n\")\n",
    "print(\"DETERMINANT of dot product is :\\n\",int(np.linalg.det(dot)))\n",
    "print(\"\\n\")\n",
    "print(\"inverse of dot product is :\\n\",np.linalg.inv(dot))\n",
    "print(\"\\n\")\n",
    "print(\"eigen values of dot product is :\\n\",np.linalg.eig(dot))"
   ]
  },
  {
   "cell_type": "code",
   "execution_count": 6,
   "id": "cc8def02",
   "metadata": {},
   "outputs": [],
   "source": []
  },
  {
   "cell_type": "code",
   "execution_count": null,
   "id": "727fe20c",
   "metadata": {},
   "outputs": [],
   "source": []
  }
 ],
 "metadata": {
  "kernelspec": {
   "display_name": "Python 3",
   "language": "python",
   "name": "python3"
  },
  "language_info": {
   "codemirror_mode": {
    "name": "ipython",
    "version": 3
   },
   "file_extension": ".py",
   "mimetype": "text/x-python",
   "name": "python",
   "nbconvert_exporter": "python",
   "pygments_lexer": "ipython3",
   "version": "3.5.6"
  }
 },
 "nbformat": 4,
 "nbformat_minor": 5
}
